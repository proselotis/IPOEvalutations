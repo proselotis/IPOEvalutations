{
 "cells": [
  {
   "cell_type": "code",
   "execution_count": 1,
   "metadata": {},
   "outputs": [],
   "source": [
    "import pandas_datareader.data as web\n",
    "import pandas as pd\n",
    "import numpy as np\n",
    "import datetime as dt\n",
    "import script as sc\n",
    "import re\n",
    "import requests\n",
    "from bs4 import BeautifulSoup\n",
    "import gender_guesser.detector as gender\n",
    "from sklearn.neighbors import KNeighborsClassifier\n",
    "from sklearn.ensemble import RandomForestClassifier\n",
    "import sklearn.svm as svm\n",
    "from sklearn.ensemble import AdaBoostClassifier\n",
    "from sklearn.ensemble import GradientBoostingClassifier\n",
    "from sklearn import linear_model\n",
    "from sklearn import preprocessing\n",
    "from sklearn.metrics import mean_squared_error, r2_score\n",
    "from sklearn.linear_model import LinearRegression\n",
    "from sklearn.model_selection import cross_val_score\n",
    "from sklearn.model_selection import cross_val_predict\n",
    "\n",
    "d = gender.Detector()\n"
   ]
  },
  {
   "cell_type": "code",
   "execution_count": 9,
   "metadata": {},
   "outputs": [
    {
     "name": "stderr",
     "output_type": "stream",
     "text": [
      "/Users/gusmoir/anaconda3/lib/python3.6/site-packages/IPython/core/interactiveshell.py:2728: DtypeWarning: Columns (1342,1425,1432,1543,1546,1549,1551,1552,1553,1562,1587,1588,1605,1608,1615,1619,1620,1621,1622,1629,1630,1632,1633,1640,1641,1642,1643,1644,1646) have mixed types. Specify dtype option on import or set low_memory=False.\n",
      "  interactivity=interactivity, compiler=compiler, result=result)\n"
     ]
    }
   ],
   "source": [
    "train = pd.read_csv(\"/Users/gusmoir/Desktop/Projects/SeniorProject/finalHelper.csv\",encoding = \"ISO-8859-1\")\n",
    "train = train.set_index('Symbol')\n",
    "trainAnswers = train[['DaysBetterThanSP','daysProfit','daysProfitGrouped','Profitable','Safe','HomeRunDay','HomeRun']]\n",
    "trainAnswers = trainAnswers[~trainAnswers.index.duplicated(keep='first')]\n",
    "data = train\n",
    "createCategories = ['Year','Month','Day','dayOfWeek','Sector','Industry','CEOGender','PresidentGender'\n",
    "                ,'City','stateCountry','employeesGrouped','USACompany','FiscalMonth','FoundingDateGrouped'\n",
    "                ,'usableCEOAge','usableCEOGender','usablePresidentAge','usablePresidentGender','yearDifferenceGrouped']\n",
    "res1 = []\n",
    "for index,row in data.iterrows():\n",
    "    res1.append(index)\n",
    "res = pd.DataFrame(res1,columns = ['Symbol'])\n",
    "res = res.set_index('Symbol')\n",
    "appl = []\n",
    "for index, row in data.iterrows():\n",
    "    appl.append(index)\n",
    "for var in createCategories:\n",
    "    temp = pd.get_dummies(data[var],prefix= var)\n",
    "    temp['Symbol'] = appl\n",
    "    temp2 = temp.set_index('Symbol')\n",
    "    res = res.join(temp2)\n",
    "    res = res[~res.index.duplicated(keep='first')]\n",
    "data = data.drop(['DaysBetterThanSP','daysProfit','daysProfitGrouped','Profitable','Safe','HomeRunDay','HomeRun'],axis =1)"
   ]
  },
  {
   "cell_type": "code",
   "execution_count": 12,
   "metadata": {},
   "outputs": [],
   "source": [
    "deciders = ['Safe','Profitable','HomeRun']"
   ]
  },
  {
   "cell_type": "markdown",
   "metadata": {},
   "source": [
    "# Random Forrest test "
   ]
  },
  {
   "cell_type": "code",
   "execution_count": 15,
   "metadata": {},
   "outputs": [
    {
     "name": "stdout",
     "output_type": "stream",
     "text": [
      "The best number of branches for Random Forrest for Safe is 38 with an accuracy of 0.8421174302778178\n",
      "The best number of branches for Random Forrest for Profitable is 39 with an accuracy of 0.6274644333101709\n",
      "The best number of branches for Random Forrest for HomeRun is 39 with an accuracy of 0.9305232981936922\n"
     ]
    }
   ],
   "source": [
    "for response in deciders:\n",
    "    highest = 0\n",
    "    best = -1\n",
    "    for i in range(1,50):\n",
    "        rf = RandomForestClassifier(max_depth = i, random_state = 0)\n",
    "        scores = cross_val_score(rf, res, trainAnswers[response], cv=5)\n",
    "        if scores.mean() > highest:\n",
    "            best = i\n",
    "            highest = scores.mean()\n",
    "    print('The best number of branches for Random Forrest for',response,'is',best,'with an accuracy of',highest)"
   ]
  },
  {
   "cell_type": "markdown",
   "metadata": {},
   "source": [
    "# K Nearest Neighbors test"
   ]
  },
  {
   "cell_type": "code",
   "execution_count": 17,
   "metadata": {},
   "outputs": [
    {
     "name": "stdout",
     "output_type": "stream",
     "text": [
      "The best number of neighbors for KNN for Safe is 16 with an accuracy of 0.8407671731380869\n",
      "The best number of neighbors for KNN for Profitable is 26 with an accuracy of 0.6212456570237356\n",
      "The best number of neighbors for KNN for HomeRun is 4 with an accuracy of 0.9305218372706443\n"
     ]
    }
   ],
   "source": [
    "for response in deciders:\n",
    "    highest = 0\n",
    "    best = -1\n",
    "    for i in range(1,50):\n",
    "        neigh = KNeighborsClassifier(n_neighbors = i)\n",
    "        scores = cross_val_score(neigh, res, trainAnswers[response], cv=5)\n",
    "        if scores.mean() > highest:\n",
    "            highest = scores.mean()\n",
    "            best = i\n",
    "    print('The best number of neighbors for KNN for',response,'is',best,'with an accuracy of',highest)"
   ]
  }
 ],
 "metadata": {
  "kernelspec": {
   "display_name": "Python 3",
   "language": "python",
   "name": "python3"
  },
  "language_info": {
   "codemirror_mode": {
    "name": "ipython",
    "version": 3
   },
   "file_extension": ".py",
   "mimetype": "text/x-python",
   "name": "python",
   "nbconvert_exporter": "python",
   "pygments_lexer": "ipython3",
   "version": "3.6.4"
  }
 },
 "nbformat": 4,
 "nbformat_minor": 2
}
